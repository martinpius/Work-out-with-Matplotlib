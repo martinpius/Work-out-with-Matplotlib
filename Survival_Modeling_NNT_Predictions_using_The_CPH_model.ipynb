{
  "nbformat": 4,
  "nbformat_minor": 0,
  "metadata": {
    "colab": {
      "name": "Survival Modeling- NNT-Predictions using The CPH model.ipynb",
      "provenance": [],
      "authorship_tag": "ABX9TyP6zSb9TZOXZ7UPje1wEnXj",
      "include_colab_link": true
    },
    "kernelspec": {
      "name": "python3",
      "display_name": "Python 3"
    }
  },
  "cells": [
    {
      "cell_type": "markdown",
      "metadata": {
        "id": "view-in-github",
        "colab_type": "text"
      },
      "source": [
        "<a href=\"https://colab.research.google.com/github/martinpius/Work-out-with-Matplotlib/blob/master/Survival_Modeling_NNT_Predictions_using_The_CPH_model.ipynb\" target=\"_parent\"><img src=\"https://colab.research.google.com/assets/colab-badge.svg\" alt=\"Open In Colab\"/></a>"
      ]
    },
    {
      "cell_type": "code",
      "metadata": {
        "colab": {
          "base_uri": "https://localhost:8080/"
        },
        "id": "jcNr9Q0M2aLZ",
        "outputId": "7249df1b-0e81-422d-c8cd-60d727c7dd9b"
      },
      "source": [
        "from google.colab import drive\n",
        "drive.mount(\"/content/drive\", force_remount = True)\n",
        "try:\n",
        "  COLAB = True\n",
        "  import tensorflow as tf\n",
        "  print(f\"You are using Colab with tensoflow version: {tf.__version__}\")\n",
        "except Exception as e:\n",
        "  COLAB = False\n",
        "  print(f\"{type(e)}: {e}\\n...Please Load Your Drive...\")\n",
        "\n",
        "def time_fmt(t):\n",
        "  h = int(t / (60 * 60))\n",
        "  m = int(t % (60 * 60) / 60)\n",
        "  s = int(t % 60)\n",
        "  return f\"{h}: {m:>03}: {s:>05.2f}\"\n",
        "print(f\"test time: {time_fmt(128.1987)}\")"
      ],
      "execution_count": 4,
      "outputs": [
        {
          "output_type": "stream",
          "text": [
            "Mounted at /content/drive\n",
            "You are using Colab with tensoflow version: 2.4.1\n",
            "test time: 0: 002: 08.00\n"
          ],
          "name": "stdout"
        }
      ]
    },
    {
      "cell_type": "code",
      "metadata": {
        "colab": {
          "base_uri": "https://localhost:8080/"
        },
        "id": "52wpNC_t5R9u",
        "outputId": "0971fd19-4889-468d-b762-54c811a490b5"
      },
      "source": [
        "!pip install scikit-survival"
      ],
      "execution_count": 5,
      "outputs": [
        {
          "output_type": "stream",
          "text": [
            "Collecting scikit-survival\n",
            "\u001b[?25l  Downloading https://files.pythonhosted.org/packages/4d/07/10e960674a7d9660f1b19d206ce37afabba0f443d6c72bcc8945d617d890/scikit-survival-0.14.0.tar.gz (2.3MB)\n",
            "\u001b[K     |████████████████████████████████| 2.3MB 10.5MB/s \n",
            "\u001b[?25h  Installing build dependencies ... \u001b[?25l\u001b[?25hdone\n",
            "  Getting requirements to build wheel ... \u001b[?25l\u001b[?25hdone\n",
            "    Preparing wheel metadata ... \u001b[?25l\u001b[?25hdone\n",
            "Requirement already satisfied: osqp!=0.6.0,!=0.6.1 in /usr/local/lib/python3.6/dist-packages (from scikit-survival) (0.6.2.post0)\n",
            "Requirement already satisfied: scipy!=1.3.0,>=1.0 in /usr/local/lib/python3.6/dist-packages (from scikit-survival) (1.4.1)\n",
            "Requirement already satisfied: scikit-learn<0.24,>=0.22.0 in /usr/local/lib/python3.6/dist-packages (from scikit-survival) (0.22.2.post1)\n",
            "Requirement already satisfied: joblib in /usr/local/lib/python3.6/dist-packages (from scikit-survival) (1.0.0)\n",
            "Requirement already satisfied: pandas>=0.21 in /usr/local/lib/python3.6/dist-packages (from scikit-survival) (1.1.5)\n",
            "Requirement already satisfied: numexpr in /usr/local/lib/python3.6/dist-packages (from scikit-survival) (2.7.2)\n",
            "Requirement already satisfied: cvxopt in /usr/local/lib/python3.6/dist-packages (from scikit-survival) (1.2.5)\n",
            "Requirement already satisfied: numpy in /usr/local/lib/python3.6/dist-packages (from scikit-survival) (1.19.5)\n",
            "Requirement already satisfied: cvxpy>=1.0 in /usr/local/lib/python3.6/dist-packages (from scikit-survival) (1.0.31)\n",
            "Requirement already satisfied: qdldl in /usr/local/lib/python3.6/dist-packages (from osqp!=0.6.0,!=0.6.1->scikit-survival) (0.1.5.post0)\n",
            "Requirement already satisfied: python-dateutil>=2.7.3 in /usr/local/lib/python3.6/dist-packages (from pandas>=0.21->scikit-survival) (2.8.1)\n",
            "Requirement already satisfied: pytz>=2017.2 in /usr/local/lib/python3.6/dist-packages (from pandas>=0.21->scikit-survival) (2018.9)\n",
            "Requirement already satisfied: multiprocess in /usr/local/lib/python3.6/dist-packages (from cvxpy>=1.0->scikit-survival) (0.70.11.1)\n",
            "Requirement already satisfied: ecos>=2 in /usr/local/lib/python3.6/dist-packages (from cvxpy>=1.0->scikit-survival) (2.0.7.post1)\n",
            "Requirement already satisfied: scs>=1.1.3 in /usr/local/lib/python3.6/dist-packages (from cvxpy>=1.0->scikit-survival) (2.1.2)\n",
            "Requirement already satisfied: six>=1.5 in /usr/local/lib/python3.6/dist-packages (from python-dateutil>=2.7.3->pandas>=0.21->scikit-survival) (1.15.0)\n",
            "Requirement already satisfied: dill>=0.3.3 in /usr/local/lib/python3.6/dist-packages (from multiprocess->cvxpy>=1.0->scikit-survival) (0.3.3)\n",
            "Building wheels for collected packages: scikit-survival\n",
            "  Building wheel for scikit-survival (PEP 517) ... \u001b[?25l\u001b[?25hdone\n",
            "  Created wheel for scikit-survival: filename=scikit_survival-0.14.0-cp36-cp36m-linux_x86_64.whl size=4056517 sha256=66090b61fda883ecf34a6c1cea3f973613892bef1e8e179e1ac553ad6768945c\n",
            "  Stored in directory: /root/.cache/pip/wheels/f4/af/94/be84d2dc68a947ad2859b1608f1d57a4328465a0b00b0fb4ac\n",
            "Successfully built scikit-survival\n",
            "Installing collected packages: scikit-survival\n",
            "Successfully installed scikit-survival-0.14.0\n"
          ],
          "name": "stdout"
        }
      ]
    },
    {
      "cell_type": "code",
      "metadata": {
        "id": "dGg0aM7g4Udr"
      },
      "source": [
        "import pandas as pd\n",
        "import matplotlib.pyplot as plt\n",
        "import tensorflow as tf\n",
        "import numpy as np\n",
        "from typing import Tuple, Dict, Any, Iterable, Union, Optional\n",
        "from pathlib import Path\n",
        "from sksurv.nonparametric import kaplan_meier_estimator\n",
        "from sklearn.model_selection import train_test_split\n",
        "from sksurv.metrics import concordance_index_censored\n"
      ],
      "execution_count": 6,
      "outputs": []
    },
    {
      "cell_type": "code",
      "metadata": {
        "id": "Pue1NmTt6MgY"
      },
      "source": [
        "#Simulation survival data based on mnist images:\n",
        "#We will obtain survival time as random survival scores coresponding to each digits\n",
        "#We will first create the class labels for each digit (0, 1, ..., 9)\n",
        "#Classes will be randomly assigned to four risk groups (0,1,2,3) which discriminate the individual\n",
        " "
      ],
      "execution_count": 7,
      "outputs": []
    },
    {
      "cell_type": "code",
      "metadata": {
        "colab": {
          "base_uri": "https://localhost:8080/"
        },
        "id": "Hy01lmgJ_CqA",
        "outputId": "a3a6f168-308b-4a41-8e2c-eb8200f1b260"
      },
      "source": [
        "(x_train, y_train), (x_test, y_test) = tf.keras.datasets.mnist.load_data()"
      ],
      "execution_count": 8,
      "outputs": [
        {
          "output_type": "stream",
          "text": [
            "Downloading data from https://storage.googleapis.com/tensorflow/tf-keras-datasets/mnist.npz\n",
            "11493376/11490434 [==============================] - 0s 0us/step\n"
          ],
          "name": "stdout"
        }
      ]
    },
    {
      "cell_type": "code",
      "metadata": {
        "id": "gDi4Bsw6_Rh9"
      },
      "source": [
        "#standerdize the data and convert the labels to int:"
      ],
      "execution_count": 9,
      "outputs": []
    },
    {
      "cell_type": "code",
      "metadata": {
        "id": "uXArneYp_eHK"
      },
      "source": [
        "x_train, x_test = x_train.astype('float32')/255.0 , x_test.astype('float32')/255.0"
      ],
      "execution_count": 10,
      "outputs": []
    },
    {
      "cell_type": "code",
      "metadata": {
        "id": "_7-q0oXX_06O"
      },
      "source": [
        "y_train, y_test = y_train.astype('int32'), y_test.astype('int32')"
      ],
      "execution_count": 11,
      "outputs": []
    },
    {
      "cell_type": "code",
      "metadata": {
        "id": "4c1wH_j7__Ih"
      },
      "source": [
        "y = np.concatenate((y_train, y_test)) #Combine the labels"
      ],
      "execution_count": 12,
      "outputs": []
    },
    {
      "cell_type": "code",
      "metadata": {
        "id": "nEybXUE1ARTt"
      },
      "source": [
        "#Write a function to create a synthetic survival data based on the labels of mnist data:\n",
        "def create_survival_data(y: np.ndarray,n_groups: int = 4,seed: int = 10)->Tuple[pd.DataFrame, np.array]:\n",
        "  '''This function will create random risk scores for each class label based on 4 random risk groups'''\n",
        "  rnd = np.random.RandomState(seed = seed)\n",
        "\n",
        "  #Assign class labels (0, 1 2 ..., 9) to risk groups (0,1,2,3):\n",
        "  classes = np.unique(y) #obtain the unique values for the class variable (the labels)\n",
        "  grp_assigment = {} #Place holder for the label-group mapping \n",
        "  grp_members = {}#place holder for risk groups\n",
        "  groups = rnd.randint(n_groups, size = classes.shape) #First we random Create risk groups (0,1,2,3)\n",
        "  #Assign classes to risk groups (we assign at random classes 0, 1, ...9) to risk groups (0,1,2,3):\n",
        "  for label, group in zip(classes, groups):\n",
        "    grp_assigment[label] = group\n",
        "    grp_members.setdefault(group, []).append(label) #append (the labels that falls on same group) to a unique group\n",
        "\n",
        "  #Create the corresponding risk score for each class label (0, 1,..., 8, 9)\n",
        "  risk_per_class = {}\n",
        "  for label in classes:\n",
        "    grp_index = grp_assigment[label]\n",
        "    group = grp_members[grp_index]\n",
        "    label_index = group.index(label)\n",
        "    group_size = len(group)\n",
        "    risk_score = np.sqrt(grp_index + 1e-4)*1.75 #Computing the risk score (You can use any formulation)\n",
        "    risk_score-=(label_index - (group_size)//2)/25. #allow the slight variation accross the group-scores\n",
        "    risk_per_class[label] = risk_score #create the risk score corresponding to each label (0, 1 2,..., 8,9)\n",
        "  \n",
        "  assignment = pd.concat((pd.Series(risk_per_class, name = 'risk_per_class'),\n",
        "                          pd.Series(grp_assigment, name = 'risk_groups')),axis = 1).rename_axis('class_label')\n",
        "  risk_scores = np.array([risk_per_class[yy] for yy in y])\n",
        "  return assignment, risk_scores\n"
      ],
      "execution_count": 13,
      "outputs": []
    },
    {
      "cell_type": "code",
      "metadata": {
        "id": "0pQLcfQRMxqk"
      },
      "source": [
        "#Create the data by passing the mnist labels:\n",
        "assignment, risk_scores = create_survival_data(y)"
      ],
      "execution_count": 14,
      "outputs": []
    },
    {
      "cell_type": "code",
      "metadata": {
        "colab": {
          "base_uri": "https://localhost:8080/",
          "height": 390
        },
        "id": "1PVmX9gdM-yD",
        "outputId": "cf4d7523-d56a-40ce-dc4e-2d85544d7eb8"
      },
      "source": [
        "assignment.round(4)"
      ],
      "execution_count": 15,
      "outputs": [
        {
          "output_type": "execute_result",
          "data": {
            "text/html": [
              "<div>\n",
              "<style scoped>\n",
              "    .dataframe tbody tr th:only-of-type {\n",
              "        vertical-align: middle;\n",
              "    }\n",
              "\n",
              "    .dataframe tbody tr th {\n",
              "        vertical-align: top;\n",
              "    }\n",
              "\n",
              "    .dataframe thead th {\n",
              "        text-align: right;\n",
              "    }\n",
              "</style>\n",
              "<table border=\"1\" class=\"dataframe\">\n",
              "  <thead>\n",
              "    <tr style=\"text-align: right;\">\n",
              "      <th></th>\n",
              "      <th>risk_per_class</th>\n",
              "      <th>risk_groups</th>\n",
              "    </tr>\n",
              "    <tr>\n",
              "      <th>class_label</th>\n",
              "      <th></th>\n",
              "      <th></th>\n",
              "    </tr>\n",
              "  </thead>\n",
              "  <tbody>\n",
              "    <tr>\n",
              "      <th>0</th>\n",
              "      <td>1.8301</td>\n",
              "      <td>1</td>\n",
              "    </tr>\n",
              "    <tr>\n",
              "      <th>1</th>\n",
              "      <td>1.7901</td>\n",
              "      <td>1</td>\n",
              "    </tr>\n",
              "    <tr>\n",
              "      <th>2</th>\n",
              "      <td>0.0575</td>\n",
              "      <td>0</td>\n",
              "    </tr>\n",
              "    <tr>\n",
              "      <th>3</th>\n",
              "      <td>3.0711</td>\n",
              "      <td>3</td>\n",
              "    </tr>\n",
              "    <tr>\n",
              "      <th>4</th>\n",
              "      <td>0.0175</td>\n",
              "      <td>0</td>\n",
              "    </tr>\n",
              "    <tr>\n",
              "      <th>5</th>\n",
              "      <td>1.7501</td>\n",
              "      <td>1</td>\n",
              "    </tr>\n",
              "    <tr>\n",
              "      <th>6</th>\n",
              "      <td>3.0311</td>\n",
              "      <td>3</td>\n",
              "    </tr>\n",
              "    <tr>\n",
              "      <th>7</th>\n",
              "      <td>-0.0225</td>\n",
              "      <td>0</td>\n",
              "    </tr>\n",
              "    <tr>\n",
              "      <th>8</th>\n",
              "      <td>1.7101</td>\n",
              "      <td>1</td>\n",
              "    </tr>\n",
              "    <tr>\n",
              "      <th>9</th>\n",
              "      <td>1.6701</td>\n",
              "      <td>1</td>\n",
              "    </tr>\n",
              "  </tbody>\n",
              "</table>\n",
              "</div>"
            ],
            "text/plain": [
              "             risk_per_class  risk_groups\n",
              "class_label                             \n",
              "0                    1.8301            1\n",
              "1                    1.7901            1\n",
              "2                    0.0575            0\n",
              "3                    3.0711            3\n",
              "4                    0.0175            0\n",
              "5                    1.7501            1\n",
              "6                    3.0311            3\n",
              "7                   -0.0225            0\n",
              "8                    1.7101            1\n",
              "9                    1.6701            1"
            ]
          },
          "metadata": {
            "tags": []
          },
          "execution_count": 15
        }
      ]
    },
    {
      "cell_type": "code",
      "metadata": {
        "id": "ORUro3tgPoka"
      },
      "source": [
        "#We can see that class labels 3 and 6 belongs to higheast risk group 3 while class labels 2, and 7 belongs to the lowest risk group 0"
      ],
      "execution_count": 16,
      "outputs": []
    },
    {
      "cell_type": "code",
      "metadata": {
        "id": "oSgsPxwVYxTt"
      },
      "source": [
        "#We can now simulate survival times based on the risk scores and by assuming the simplest case of exponential distribution survival time:\n"
      ],
      "execution_count": 17,
      "outputs": []
    },
    {
      "cell_type": "code",
      "metadata": {
        "id": "k0agBl31ZEo7"
      },
      "source": [
        "class SurvTimeGen:\n",
        "  def __init__(self,sample_size: int, mean_surv_time: float, censored_prob: float)->None:\n",
        "    self.sample_size = sample_size\n",
        "    self.mean_surv_time = mean_surv_time\n",
        "    self.censored_prob = censored_prob\n",
        "  \n",
        "  def censored_time_gen(self, risk_score: np.ndarray, seed: int = 11)->Tuple[np.ndarray, np.ndarray]:\n",
        "    '''This function compute censored survival times'''\n",
        "    rnd = np.random.RandomState(seed = seed)\n",
        "    base_hazard = 1.0/self.mean_surv_time\n",
        "    scale = base_hazard * np.exp(risk_score)\n",
        "    u = rnd.uniform(low = 0, high = 1, size = risk_score.shape[0])\n",
        "    t = -np.log(u)/scale #This is the survival time based on exponential distribution\n",
        "    qtl = np.quantile(t, 1.0 - self.censored_prob) \n",
        "    c = rnd.uniform(low = t.min(), high = qtl) #indepently from survival times, we Computing the censored times\n",
        "    #Read the events\n",
        "    obs_event = t<= c\n",
        "    obs_time = np.where(obs_event, t, c)\n",
        "    return obs_time, obs_event\n"
      ],
      "execution_count": 18,
      "outputs": []
    },
    {
      "cell_type": "code",
      "metadata": {
        "id": "PyeF95xDj5hM"
      },
      "source": [
        "suv_gen = SurvTimeGen(sample_size = y.shape[0],\n",
        "                      mean_surv_time = 365.0,\n",
        "                      censored_prob = 0.45)"
      ],
      "execution_count": 19,
      "outputs": []
    },
    {
      "cell_type": "code",
      "metadata": {
        "id": "GIUtmvqAkQD1"
      },
      "source": [
        "time, events = suv_gen.censored_time_gen(risk_score= risk_scores)"
      ],
      "execution_count": 20,
      "outputs": []
    },
    {
      "cell_type": "code",
      "metadata": {
        "id": "G_YlDOOkk42V"
      },
      "source": [
        "time_train = time[: y_train.shape[0]]\n",
        "events_train = events[: y_train.shape[0]]\n",
        "time_eval = time[y_train.shape[0]:]\n",
        "events_eval = events[y_train.shape[0]:]"
      ],
      "execution_count": 21,
      "outputs": []
    },
    {
      "cell_type": "code",
      "metadata": {
        "colab": {
          "base_uri": "https://localhost:8080/"
        },
        "id": "dz1TyvNVmD0s",
        "outputId": "5ab48c95-0d08-44b9-b675-cd8d87fc1717"
      },
      "source": [
        "print(f\"right censored train event samples: {np.sum(~events_train) * 100. / len(events_train): .2f}%\\nright censored evaluation event samples: {np.sum(~events_eval) * 100. / len(events_eval): .2f}%\")"
      ],
      "execution_count": 22,
      "outputs": [
        {
          "output_type": "stream",
          "text": [
            "right censored train event samples:  70.06%\n",
            "right censored evaluation event samples:  70.01%\n"
          ],
          "name": "stdout"
        }
      ]
    },
    {
      "cell_type": "code",
      "metadata": {
        "colab": {
          "base_uri": "https://localhost:8080/",
          "height": 316
        },
        "id": "SQvM_5WAnN-r",
        "outputId": "1075eaff-bf8c-4934-cb7b-dbea2e253913"
      },
      "source": [
        "#Vissualization of the KM survival probabilities with respect to the 4 risks.\n",
        "#We need to see survival distributions per specific risk. We stratify the data according to the risk groups:\n",
        "plt.style.use('ggplot')\n",
        "styles = ('-','-.','--',':')\n",
        "for row in assignment.itertuples():\n",
        "  mask = y_train == row.Index\n",
        "  x_coord, y_coord = kaplan_meier_estimator(events_train[mask], time_train[mask])\n",
        "  ls = styles[row.risk_groups]\n",
        "  plt.step(x_coord, y_coord, where = 'post',label = f\"Class: {row.Index}\", linestyle = ls)\n",
        "plt.ylim(0,1)\n",
        "plt.ylabel('Survival probs')\n",
        "plt.xlabel('Survival time')\n",
        "plt.grid()\n",
        "plt.legend()\n",
        "plt.title('Survival Distribution for the four groups')\n",
        "\n",
        "\n"
      ],
      "execution_count": 23,
      "outputs": [
        {
          "output_type": "execute_result",
          "data": {
            "text/plain": [
              "Text(0.5, 1.0, 'Survival Distribution for the four groups')"
            ]
          },
          "metadata": {
            "tags": []
          },
          "execution_count": 23
        },
        {
          "output_type": "display_data",
          "data": {
            "image/png": "[encoded data removed]",
            "text/plain": [
              "<Figure size 432x288 with 1 Axes>"
            ]
          },
          "metadata": {
            "tags": []
          }
        }
      ]
    },
    {
      "cell_type": "code",
      "metadata": {
        "id": "SbgH73emsrxK"
      },
      "source": [
        "#We see group 7 has the highest survival as we expected since the risk scores are minimum"
      ],
      "execution_count": 24,
      "outputs": []
    },
    {
      "cell_type": "code",
      "metadata": {
        "id": "KUUqgIhK2TXp"
      },
      "source": [
        "#Evaluation of the model is based on corncordance index. This is the degree of how well the \n",
        "#observed ordered survival times matches with the ordered predicted risk scores:\n",
        "#We can obtain this score by assuming the simulated risk-scores above before training our model:"
      ],
      "execution_count": 25,
      "outputs": []
    },
    {
      "cell_type": "code",
      "metadata": {
        "colab": {
          "base_uri": "https://localhost:8080/"
        },
        "id": "R33nXsxABcMN",
        "outputId": "7e1c5e51-6505-4c39-f1f7-0d35a8090ad1"
      },
      "source": [
        "c_index = concordance_index_censored(events_eval, time_eval,risk_scores[y_train.shape[0]:])\n",
        "print(f\"with the actual-simulated risk scores, the concordance index using evaluation set is: {c_index[0]:.4f}\")"
      ],
      "execution_count": 26,
      "outputs": [
        {
          "output_type": "stream",
          "text": [
            "with the actual-simulated risk scores, the concordance index using evaluation set is: 0.7262\n"
          ],
          "name": "stdout"
        }
      ]
    },
    {
      "cell_type": "code",
      "metadata": {
        "id": "bglxMftMCb3-"
      },
      "source": [
        "#The perfect score is 1.0 and we've supposed to get 1.0 since we applied on actual data (risk score)\n",
        "#Due to variation caused by randomly simulated risk scores which are not deterministic. Thus, any model \n",
        "#We fit using the above data will not surpass the c-index of 0.7262 (our upper limit inplace of 1.0)"
      ],
      "execution_count": 27,
      "outputs": []
    },
    {
      "cell_type": "code",
      "metadata": {
        "id": "erw2IS2TDUr9"
      },
      "source": [
        "#We can train CPH model by maximizing the partial log-likelihood function (minimizing the negative partial)\n",
        "#Log-likelihood function. The challenge involved is the computation of the risk set (Those individuals)\n",
        "#who still alive/have'nt developed an event yet. To use the min-batches we have to be carefull about the\n",
        "#batch sizes to avoid vanishing of the loss function in case the entire batch is censored."
      ],
      "execution_count": 28,
      "outputs": []
    },
    {
      "cell_type": "code",
      "metadata": {
        "id": "6BcVsBiMUwko"
      },
      "source": [
        "#We compute the summation of the risk set (denominator of likelihood fn) by using square matrix of \n",
        "#indicator function (event/censored) and the exponent part of the predictors. Rows-wise summation will\n",
        "#lead to risk set for a particular sample/individual."
      ],
      "execution_count": 29,
      "outputs": []
    },
    {
      "cell_type": "code",
      "metadata": {
        "id": "Dke2EmW5VXrr"
      },
      "source": [
        "#We define a function that create a mask for computing risk set for each sample\n",
        "#This function takes in the survival time (np-array) and return a square matrix of booleans (mask)\n",
        "def riskset_sum(surv_time: np.ndarray)->np.ndarray:\n",
        "  assert surv_time.ndim == 1 #The input argument is of shape (sample_size,) which is a one dimensional array\n",
        "  o = np.argsort(-surv_time, kind = 'mergesort') #sort the survival time in descending order\n",
        "  sample_size = len(surv_time) #get the total amount of samples\n",
        "  mask = np.zeros(shape = (sample_size, sample_size), type = np.bool_) #create a boolian square matrix to be used as mask\n",
        "  for i, j in enumerate(o):\n",
        "    ti = surv_time[j]\n",
        "    k = i\n",
        "    while k < sample_size and ti == surv_time[o[k]]:\n",
        "      k+=1\n",
        "    mask[j, o[:k]] = True #compute the mask (help to obtain the risk set)\n",
        "  return mask\n"
      ],
      "execution_count": 30,
      "outputs": []
    },
    {
      "cell_type": "code",
      "metadata": {
        "id": "JBkBBbcaiPn_"
      },
      "source": [
        "#We now compute the risk-set per batches using the mnist data (images):"
      ],
      "execution_count": 31,
      "outputs": []
    },
    {
      "cell_type": "code",
      "metadata": {
        "id": "mF4dL6ubjYFG"
      },
      "source": [
        "class RiskSetCom:\n",
        "  def __init__(self, img: np.ndarray, suvr_time: np.ndarray, event: np.ndarray,epochs: int = 1,batch_size: int = 64, drop_last: bool = False, shuffle: bool = False, seed: int = 11)->None:\n",
        "    if img.ndim == 3: #(Height, Width, Channels)\n",
        "      img = img[..., np.newaxis] #similar to tf.expand_dims (add a new axis)\n",
        "      self.img = img\n",
        "      self.suvr_time = suvr_time\n",
        "      self.event = event\n",
        "      self.batch_size = batch_size\n",
        "      self.epochs = epochs\n",
        "      self.drop_last = drop_last\n",
        "      self.shuffle = shuffle\n",
        "      self.seed = seed\n",
        "    \n",
        "  def sample_size(self)-> int:\n",
        "    return self.img.shape[0] #This return the total number of samples\n",
        "  \n",
        "  def steps_per_epochs(self)->int:\n",
        "    return (np.floor(self.sample_size()/self.batch_size))\n",
        "  \n",
        "  def mini_batch_get(self, index: np.ndarray)->Tuple[np.ndarray, Dict[str, np.ndarray]]:\n",
        "    ''' this method computes the risk set for a specified mini-batch'''\n",
        "    imgs = self.img[index]\n",
        "    surv_time = self.surv_time[index]\n",
        "    event = self.event[index]\n",
        "    labels = {\n",
        "        'label_event': event.astype(np.int32),\n",
        "        'label_time': event.astype(np.float32),\n",
        "        'label_risk_set': riskset_sum(surv_time) # get the mini-batch mask\n",
        "    }\n",
        "    return imgs, labels\n",
        "  \n",
        "  def iterable_data(self)->Iterable[Tuple[np.ndarray, Dict[str, np.ndarray]]]:\n",
        "    '''Generate one batch at a time (same as tf.data.Dataset.from_tensor_slices())'''\n",
        "    idx = np.arrange(self.sample_size())\n",
        "    rnd = np.random.RandomState(seed = self.seed)\n",
        "    #Iterate over the epoch\n",
        "    for _ in range(self.epochs):\n",
        "      if self.shuffle:\n",
        "        rnd.shuffle(idx)\n",
        "        #Iterate over steps\n",
        "      for batch in range(steps_per_epochs()):\n",
        "          start = batch * self.batch_size\n",
        "          idx_batch = idx[start:(start + self.batch_size)]\n",
        "          yield self.mini_batch_get(idx_batch)\n",
        "      if not self.drop_last:\n",
        "        start = self.steps_per_epochs() * self.batch_size \n",
        "        idx_batch = idx[start:]\n",
        "        yield self.steps_per_epochs(idx_batch)\n",
        "\n",
        "  def get_shape(self)->Tuple[tf.TensorShape, Dict[str, tf.TensorShape]]:\n",
        "    '''obtain the shapes of the training data constructed by iterable_data() fn above'''\n",
        "    batch_size = self.batch_size if self.drop_last else None\n",
        "    height, width, channels = self.img.shape[1:]\n",
        "    imgs = tf.TensorShape([batch_size, height, width, channels]) #Tf dataset\n",
        "    labels = {k: tf.TensorShape((batch_size,))\n",
        "    for k in ('labe_event', 'label_time')}\n",
        "    labels['label_risk_set'] = tf.TensorShape((batch_size, batch_size))\n",
        "    return imgs, labels\n",
        "  \n",
        "  def get_dtype(self)->Tuple[tf.DType, Dict[str, tf.DType]]:\n",
        "    ''' This function convert the data into tensorflow datatype'''\n",
        "    labels = {'label_event': tf.int32,\n",
        "              'label_time': tf.float32,\n",
        "              'label_riskset': tf.bool}\n",
        "    return tf.flot32, labels\n",
        "\n",
        "  def make_dfm(self)->tf.data.Dataset:\n",
        "    '''construct a tensorflow dataframe'''\n",
        "    dt = tf.data.Dataset.from_generator(self.iterable_data(), self.get_shape(),self.get_dtype())\n",
        "    return dt\n",
        "  \n",
        "  def __call__(self)->Tuple[tf.Tensor, Dict[str, tf.Tensor]]:\n",
        "    dfm = self.make_dfm()\n",
        "    x_next, y_next = dfm.make_one_short_iterator().get_next()\n",
        "    return x_next, y_next\n",
        "  \n",
        "#We have to normalize the risk scores to reduce variation across the groups\n",
        "def normalization(x:tf.Tensor)->tf.Tensor:\n",
        "  '''if the risk score is negative, we reverse the sign to possitive and thus zero is the min-value'''\n",
        "  min_x = tf.reduce_min(axis = 0)\n",
        "  c = tf.zeros_like(min_x)\n",
        "  norm_v = tf.where(min_x < 0, -min_x, c)\n",
        "  return x + norm\n",
        "\n",
        "#We compute logsum accross axis for entries where values are true (non-censored data points)\n",
        "def mask_logsummation(risk_scores: tf.Tensor, mask: tf.Tensor, axis:int = 0, keepdims: Optional[bool] = None)->tf.Tensor:\n",
        "  risk_scores.get_shape().assert_same_rank(mask.get_shape())\n",
        "  with tf.name_scope('mask_logsummation', values = [risk_scores, mask]):\n",
        "    mask_f = tf.cast(mask, risk_scores.dtype)\n",
        "    risk_scores_masked = tf.multiply(risk_scores, mask_f)\n",
        "    max_value = tf.reduce_max(risk_scores_masked, axis = axis, keepdims = True)\n",
        "    risk_scores_adjusted = risk_scores_masked - max_value #Adjust the risk scores by substracting the maximum value\n",
        "    mask_exp = tf.mutiply(tf.exp(risk_scores_adjusted), mask_f) #compute the product in the exponent\n",
        "    sum_exp = tf.reduce_sum(mask_exp, axis = axis, keepdims = True) #Compute the summation\n",
        "    output = max_value + tf.log(sum_exp)#compute the summation of the max-value and the log-exp\n",
        "    if not keepdims:\n",
        "      output = tf.squeeze(output, axis = axis)\n",
        "  return output\n",
        "\n",
        "  "
      ],
      "execution_count": 33,
      "outputs": []
    },
    {
      "cell_type": "code",
      "metadata": {
        "id": "apvC_7ut5qmf"
      },
      "source": [
        "#The loss function( CPH-Loss Function)"
      ],
      "execution_count": 34,
      "outputs": []
    },
    {
      "cell_type": "code",
      "metadata": {
        "id": "InI39dzR7KaX"
      },
      "source": [
        ""
      ],
      "execution_count": null,
      "outputs": []
    }
  ]
}